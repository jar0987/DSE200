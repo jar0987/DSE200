{
  "nbformat": 4,
  "nbformat_minor": 0,
  "metadata": {
    "colab": {
      "provenance": [],
      "authorship_tag": "ABX9TyO0RWq40OmJHZnHw/ZFb+OO"
    },
    "kernelspec": {
      "name": "python3",
      "display_name": "Python 3"
    },
    "language_info": {
      "name": "python"
    }
  },
  "cells": [
    {
      "cell_type": "code",
      "source": [],
      "metadata": {
        "id": "QBK5NsS8UVBz"
      },
      "execution_count": null,
      "outputs": []
    },
    {
      "cell_type": "code",
      "source": [
        "# source_temperatures_csv_path_full = 'https://github.com/DSE200/Day1/blob/main/temperatures.csv'\n",
        "source_temperatures_url = 'https://raw.githubusercontent.com/DSE200/Day1/refs/heads/main/temperatures.csv'\n",
        "\n",
        "local_google_drive_path = '/content/drive/'\n",
        "dev_path = local_google_drive_path + 'My Drive/dev/'\n",
        "download_path = dev_path + 'temp/'\n",
        "colab_path = local_google_drive_path + 'My Drive/Colab Notebooks/'\n",
        "media_path = colab_path + 'media/'\n",
        "\n",
        "from urllib.parse import urlparse\n",
        "import os\n",
        "\n",
        "parsed_url = urlparse(source_temperatures_url)\n",
        "path = parsed_url.path\n",
        "source_temperatures_filename = os.path.basename(path)\n",
        "\n",
        "download_temperatures_filepath = download_path + source_temperatures_filename\n",
        "final_destination_filepath = media_path + source_temperatures_filename\n",
        "\n",
        "from google.colab import drive\n",
        "\n",
        "# auth.authenticate_user()\n",
        "drive.mount('/content/drive')\n",
        "\n",
        "# Check if destination path exists, if not, create it\n",
        "import os;\n",
        "os.makedirs(download_path, exist_ok=True)\n",
        "os.makedirs(media_path, exist_ok=True)\n",
        "\n",
        "# Download wget command (inside Google Colab only)\n",
        "!wget --no-check-certificate -r '{source_temperatures_url}' -O '{download_temperatures_filepath}'\n",
        "\n",
        "# Move the downloaded file\n",
        "import shutil\n",
        "shutil.move(download_temperatures_filepath, final_destination_filepath)"
      ],
      "metadata": {
        "colab": {
          "base_uri": "https://localhost:8080/",
          "height": 499
        },
        "id": "WNVAmcGMSiOv",
        "outputId": "2320e821-8af0-4e42-b4b4-5e2f55c15a6b"
      },
      "execution_count": 37,
      "outputs": [
        {
          "output_type": "stream",
          "name": "stdout",
          "text": [
            "Drive already mounted at /content/drive; to attempt to forcibly remount, call drive.mount(\"/content/drive\", force_remount=True).\n",
            "https://raw.githubusercontent.com/DSE200/Day1/refs/heads/main/temperatures.csv\n",
            "/content/drive/My Drive/dev/temp/temperatures.csv\n",
            "/content/drive/My Drive/Colab Notebooks/media/temperatures.csv\n",
            "WARNING: combining -O with -r or -p will mean that all downloaded content\n",
            "will be placed in the single file you specified.\n",
            "\n",
            "--2025-09-27 00:13:20--  https://raw.githubusercontent.com/DSE200/Day1/refs/heads/main/temperatures.csv\n",
            "Resolving raw.githubusercontent.com (raw.githubusercontent.com)... 185.199.108.133, 185.199.109.133, 185.199.110.133, ...\n",
            "Connecting to raw.githubusercontent.com (raw.githubusercontent.com)|185.199.108.133|:443... connected.\n",
            "HTTP request sent, awaiting response... 200 OK\n",
            "Length: 110433 (108K) [text/plain]\n",
            "Saving to: ‘/content/drive/My Drive/dev/temp/temperatures.csv’\n",
            "\n",
            "\r          /content/   0%[                    ]       0  --.-KB/s               \r/content/drive/My D 100%[===================>] 107.84K  --.-KB/s    in 0.01s   \n",
            "\n",
            "2025-09-27 00:13:20 (10.6 MB/s) - ‘/content/drive/My Drive/dev/temp/temperatures.csv’ saved [110433/110433]\n",
            "\n",
            "FINISHED --2025-09-27 00:13:20--\n",
            "Total wall clock time: 0.06s\n",
            "Downloaded: 1 files, 108K in 0.01s (10.6 MB/s)\n",
            "https://raw.githubusercontent.com/DSE200/Day1/refs/heads/main/temperatures.csv\n",
            "/content/drive/My Drive/dev/temp/temperatures.csv\n",
            "/content/drive/My Drive/Colab Notebooks/media/temperatures.csv\n"
          ]
        },
        {
          "output_type": "execute_result",
          "data": {
            "text/plain": [
              "'/content/drive/My Drive/Colab Notebooks/media/temperatures.csv'"
            ],
            "application/vnd.google.colaboratory.intrinsic+json": {
              "type": "string"
            }
          },
          "metadata": {},
          "execution_count": 37
        }
      ]
    },
    {
      "cell_type": "markdown",
      "source": [],
      "metadata": {
        "id": "LjttGIEjSog0"
      }
    }
  ]
}