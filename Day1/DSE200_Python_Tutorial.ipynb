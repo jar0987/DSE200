{
  "cells": [
    {
      "cell_type": "markdown",
      "metadata": {
        "id": "rjnK_Oa5mXSK"
      },
      "source": [
        "# Python for Data Science - Google Colab Tutorial\n",
        "\n",
        "## DSE200 Fall 2025 Welcome to Google Colab!\n",
        "\n",
        "This notebook will teach you Python fundamentals while exploring Colab's features.\n",
        "\n",
        "\n",
        "---\n",
        "\n",
        "## Part 1: Google Colab Basics (10 minutes)\n",
        "### What is Google Colab?- Free cloud-based Jupyter notebook environment- No installation required- Free GPU/TPU access- Easy sharing and collaboration\n",
        "\n",
        "### Essential Colab Skills**Try these now:\n",
        "1. **Run a cell**: Click the play button or press `Shift+Enter`\n",
        "2. **Add a new cell**: Click `+ Code` or `+ Text` buttons\n",
        "3. **Keyboard shortcuts**:    \n",
        "- `Ctrl+M B`: Insert cell below   \n",
        "- `Ctrl+M A`: Insert cell above   - `Ctrl+M D`: Delete cell"
      ]
    },
    {
      "cell_type": "code",
      "execution_count": null,
      "metadata": {
        "id": "tdItd_HCnXTp"
      },
      "outputs": [],
      "source": []
    },
    {
      "cell_type": "markdown",
      "metadata": {
        "id": "SwqRSAlAnQNH"
      },
      "source": [
        "### Run the following code in the next code cell (Shift+Enter)\n",
        "\n",
        "```\n",
        "print(\"Welcome to Google Colab!\")\n",
        "print(f\"Today is: {__import__('datetime').datetime.now().\n",
        "strftime('%B %d, %Y')}\")\n",
        "```"
      ]
    },
    {
      "cell_type": "code",
      "execution_count": 1,
      "metadata": {
        "colab": {
          "base_uri": "https://localhost:8080/"
        },
        "id": "EbJrdoXzmXSL",
        "outputId": "328923f4-608b-47e4-8e54-10ab714779e2"
      },
      "outputs": [
        {
          "output_type": "stream",
          "name": "stdout",
          "text": [
            "Welcome to Google Colab!\n",
            "Today is: September 26, 2025\n"
          ]
        }
      ],
      "source": [
        "print(\"Welcome to Google Colab!\")\n",
        "print(f\"Today is: {__import__('datetime').datetime.now().\n",
        "strftime('%B %d, %Y')}\")"
      ]
    },
    {
      "cell_type": "markdown",
      "metadata": {
        "id": "3Bhzy9CPmXSL"
      },
      "source": [
        "### 🎯 Quick Exercise\n",
        "1.1  In the code cell below, print your name and why you're learning Python."
      ]
    },
    {
      "cell_type": "code",
      "execution_count": null,
      "metadata": {
        "id": "l8_3e8hNmXSL"
      },
      "outputs": [],
      "source": [
        "# ok, your turn...do the thing here!...\n",
        "print(\"My name is Jake, I'm learning Python to wrangle data.\")"
      ]
    },
    {
      "cell_type": "markdown",
      "metadata": {
        "id": "2SWs0trXmXSM"
      },
      "source": [
        "\n",
        "---\n",
        "\n",
        "# Part 2: Python Fundamentals\n",
        "## Variables and Data Types\n",
        "\n",
        "Run the following cell to see \"dynamic typing\" in action"
      ]
    },
    {
      "cell_type": "code",
      "execution_count": 3,
      "metadata": {
        "colab": {
          "base_uri": "https://localhost:8080/"
        },
        "id": "RH2nTM1FmXSM",
        "outputId": "1c7bab3f-a912-469c-8903-669b6d09be2d"
      },
      "outputs": [
        {
          "output_type": "stream",
          "name": "stdout",
          "text": [
            "x is 42 and its type is <class 'int'>\n",
            "Now x is 3.14 and its type is <class 'float'>\n",
            "Now x is Python and its type is <class 'str'>\n"
          ]
        }
      ],
      "source": [
        "x = 42\n",
        "print(f\"x is {x} and its type is {type(x)}\")\n",
        "x = 3.14\n",
        "print(f\"Now x is {x} and its type is {type(x)}\")\n",
        "x = \"Python\"\n",
        "print(f\"Now x is {x} and its type is {type(x)}\")"
      ]
    },
    {
      "cell_type": "markdown",
      "metadata": {
        "id": "xROvs9WWmXSM"
      },
      "source": [
        "### 🎯 Quick Exercise\n",
        "### 2.1 Create variables for your age, height in meters (use decimals), and whether you like coffee (True/False).  \n",
        "\n",
        "Add the variables here, to the next code block at the top, before the if statement.\n",
        "\n",
        "```\n",
        "my_age    = None  # Replace None with your age\n",
        "my_height = None  # Replace with your height\n",
        "likes_coffee = None  # Pick True or False\n",
        "  ```"
      ]
    },
    {
      "cell_type": "code",
      "execution_count": 2,
      "metadata": {
        "colab": {
          "base_uri": "https://localhost:8080/"
        },
        "id": "GeP7hajBmXSM",
        "outputId": "3e36b002-3119-4cbd-9098-e354d2c5efe9"
      },
      "outputs": [
        {
          "output_type": "stream",
          "name": "stdout",
          "text": [
            "Age: 29, Height: 71m, Coffee lover: False\n"
          ]
        }
      ],
      "source": [
        "#enter the variables above here...and make it run\n",
        "my_age = 29\n",
        "my_height = 71\n",
        "likes_coffee = False\n",
        "\n",
        "if my_age and my_height and likes_coffee is not None:\n",
        "  print(f\"Age: {my_age}, Height: {my_height}m, Coffee lover: {likes_coffee}\")\n",
        "else:\n",
        "  print(\"Please complete all variables!\")"
      ]
    },
    {
      "cell_type": "markdown",
      "metadata": {
        "id": "lElojNNPmXSM"
      },
      "source": [
        "\n",
        "# Basic Operations\n",
        "\n",
        "## Mathematical operations\n",
        "\n",
        "```\n",
        "a, b = 10, 3\n",
        "print(f\"Addition: {a} + {b} = {a + b}\")\n",
        "print(f\"Division: {a} / {b} = {a / b:.2f}\")\n",
        "print(f\"Floor Division: {a} // {b} = {a // b}\")\n",
        "print(f\"Power: {a} ** {b} = {a ** b}\")\n",
        "\n",
        "```"
      ]
    },
    {
      "cell_type": "code",
      "execution_count": 4,
      "metadata": {
        "colab": {
          "base_uri": "https://localhost:8080/"
        },
        "id": "ucfIKpWwmXSM",
        "outputId": "9de3cec1-15bd-4aa9-edd6-8fed366f2426"
      },
      "outputs": [
        {
          "output_type": "stream",
          "name": "stdout",
          "text": [
            "Addition: 10 + 3 = 13\n",
            "Division: 10 / 3 = 3.33\n",
            "Floor Division: 10 // 3 = 3\n",
            "Power: 10 ** 3 = 1000\n"
          ]
        }
      ],
      "source": [
        "# copy the code above here and get it to run\n",
        "a, b = 10, 3\n",
        "print(f\"Addition: {a} + {b} = {a + b}\")\n",
        "print(f\"Division: {a} / {b} = {a / b:.2f}\")\n",
        "print(f\"Floor Division: {a} // {b} = {a // b}\")\n",
        "print(f\"Power: {a} ** {b} = {a ** b}\")"
      ]
    },
    {
      "cell_type": "markdown",
      "metadata": {
        "id": "rqVuD9nimXSM"
      },
      "source": [
        "## String Operations with f-strings\n",
        "\n",
        "\n",
        "# Modern Python string\n",
        "\n",
        "```\n",
        "formattingname = \"Student\"score = 95.5\n",
        "\n",
        "# Old way (don't use)\n",
        "print(\"Hello \" + name + \", score: \" + str(score))\n",
        "\n",
        "# New way (use this!) -- shown below:\n",
        "\n",
        "print(f\"Hello {name}, score: {score:.1f}%\")\n",
        "```"
      ]
    },
    {
      "cell_type": "code",
      "execution_count": 7,
      "metadata": {
        "id": "dXjHzkrgmXSM",
        "colab": {
          "base_uri": "https://localhost:8080/"
        },
        "outputId": "65b12df1-cff8-4867-d3f2-a3d3985b14b7"
      },
      "outputs": [
        {
          "output_type": "stream",
          "name": "stdout",
          "text": [
            "Hello Jake, score: 95.5\n"
          ]
        }
      ],
      "source": [
        "# copy the code above here...\n",
        "formattingname = \"Student\"\n",
        "score = 95.5\n",
        "name = \"Jake\"\n",
        "\n",
        "# Old way (don't use)\n",
        "# print(\"Hello \" + name + \", score: \" + str(score))\n",
        "\n",
        "# New way (use this!) -- shown below:\n",
        "\n",
        "print(f\"Hello {name}, score: {score:.1f}\")"
      ]
    },
    {
      "cell_type": "markdown",
      "metadata": {
        "id": "4MEBlN27mXSM"
      },
      "source": [
        "## Multiple Assignment & Tuples\n",
        "\n",
        "# Multiple assignment (unpacking)\n",
        "\n",
        "```\n",
        "a, b, c = 1, 2, 3\n",
        "print(f\"a={a}, b={b}, c={c}\")\n",
        "\n",
        "# This actually creates and unpacks a tuple!\n",
        "coordinates = (10.5, 20.3)  \n",
        "\n",
        "# Tuple (immutable)\n",
        "x, y = coordinates  \n",
        "\n",
        "# Unpacking\n",
        "print(f\"Point at x={x}, y={y}\")\n",
        "\n",
        "# Tuples are immutable (can't change)\n",
        "my_tuple = (1, 2, 3)\n",
        "print(f\"Tuple: {my_tuple}\")\n",
        "\n",
        "my_tuple[0] = 5  # This would error!\n",
        "\n",
        "# Lists are mutable (can change)\n",
        "\n",
        "my_list = [1, 2, 3]\n",
        "my_list[0] = 5  #works\n",
        "\n",
        "print(f\"List after change: {my_list}\")\n",
        "```"
      ]
    },
    {
      "cell_type": "markdown",
      "metadata": {
        "id": "Cl5dGnqUJh4O"
      },
      "source": []
    },
    {
      "cell_type": "code",
      "execution_count": 8,
      "metadata": {
        "id": "z8TJXfZFmXSM",
        "colab": {
          "base_uri": "https://localhost:8080/",
          "height": 277
        },
        "outputId": "45bcceac-67d5-4638-d417-38ea89119fbd"
      },
      "outputs": [
        {
          "output_type": "stream",
          "name": "stdout",
          "text": [
            "a=1, b=2, c=3\n",
            "Point at x=10.5, y=20.3\n",
            "Tuple: (1, 2, 3)\n"
          ]
        },
        {
          "output_type": "error",
          "ename": "TypeError",
          "evalue": "'tuple' object does not support item assignment",
          "traceback": [
            "\u001b[0;31m---------------------------------------------------------------------------\u001b[0m",
            "\u001b[0;31mTypeError\u001b[0m                                 Traceback (most recent call last)",
            "\u001b[0;32m/tmp/ipython-input-3466841668.py\u001b[0m in \u001b[0;36m<cell line: 0>\u001b[0;34m()\u001b[0m\n\u001b[1;32m     16\u001b[0m \u001b[0mprint\u001b[0m\u001b[0;34m(\u001b[0m\u001b[0;34mf\"Tuple: {my_tuple}\"\u001b[0m\u001b[0;34m)\u001b[0m\u001b[0;34m\u001b[0m\u001b[0;34m\u001b[0m\u001b[0m\n\u001b[1;32m     17\u001b[0m \u001b[0;34m\u001b[0m\u001b[0m\n\u001b[0;32m---> 18\u001b[0;31m \u001b[0mmy_tuple\u001b[0m\u001b[0;34m[\u001b[0m\u001b[0;36m0\u001b[0m\u001b[0;34m]\u001b[0m \u001b[0;34m=\u001b[0m \u001b[0;36m5\u001b[0m  \u001b[0;31m# This would error!\u001b[0m\u001b[0;34m\u001b[0m\u001b[0;34m\u001b[0m\u001b[0m\n\u001b[0m\u001b[1;32m     19\u001b[0m \u001b[0;34m\u001b[0m\u001b[0m\n\u001b[1;32m     20\u001b[0m \u001b[0;31m# Lists are mutable (can change)\u001b[0m\u001b[0;34m\u001b[0m\u001b[0;34m\u001b[0m\u001b[0m\n",
            "\u001b[0;31mTypeError\u001b[0m: 'tuple' object does not support item assignment"
          ]
        }
      ],
      "source": [
        "# type (or paste) code above until you get it to work\n",
        "a, b, c = 1, 2, 3\n",
        "print(f\"a={a}, b={b}, c={c}\")\n",
        "\n",
        "# This actually creates and unpacks a tuple!\n",
        "coordinates = (10.5, 20.3)\n",
        "\n",
        "# Tuple (immutable)\n",
        "x, y = coordinates\n",
        "\n",
        "# Unpacking\n",
        "print(f\"Point at x={x}, y={y}\")\n",
        "\n",
        "# Tuples are immutable (can't change)\n",
        "my_tuple = (1, 2, 3)\n",
        "print(f\"Tuple: {my_tuple}\")\n",
        "\n",
        "my_tuple[0] = 5  # This would error!\n",
        "\n",
        "# Lists are mutable (can change)\n",
        "\n",
        "my_list = [1, 2, 3]\n",
        "my_list[0] = 5  #works\n",
        "\n",
        "print(f\"List after change: {my_list}\")"
      ]
    },
    {
      "cell_type": "markdown",
      "metadata": {
        "id": "isUzQMXzmXSM"
      },
      "source": [
        "## None Type and Checking\n",
        "\n",
        "---\n",
        "\n",
        "None represents \"no value\"\n",
        "\n",
        "```\n",
        "result = None\n",
        "\n",
        "# WRONG way to check for None\n",
        "if result == None:  # Don't do this\n",
        "    print(\"Result is None (bad way)\")\n",
        "\n",
        "# RIGHT way to check for None\n",
        "if result is None:  # Do this\n",
        "    print(\"Result is None (good way)\")\n",
        "```\n"
      ]
    },
    {
      "cell_type": "markdown",
      "metadata": {
        "id": "S_RjgRBQEvp4"
      },
      "source": [
        "Type the following code into the block below to expermient with using None...\n",
        "\n",
        "```\n",
        "name = None\n",
        "name = input(\"Enter your name (or press Enter to skip): \")\n",
        "\n",
        "if name is not None and name != \"\":\n",
        "    print(f\"Hello, {name}!\")\n",
        "else:\n",
        "    print(\"No name provided\")\n",
        "```"
      ]
    },
    {
      "cell_type": "code",
      "execution_count": 9,
      "metadata": {
        "id": "WhgqaCjZmXSM",
        "colab": {
          "base_uri": "https://localhost:8080/"
        },
        "outputId": "71fce4f0-5376-4a1f-bfad-9f2c2c96d126"
      },
      "outputs": [
        {
          "output_type": "stream",
          "name": "stdout",
          "text": [
            "Enter your name (or press Enter to skip): Jake\n",
            "Hello, Jake!\n"
          ]
        }
      ],
      "source": [
        "# type None example here...\n",
        "name = None\n",
        "name = input(\"Enter your name (or press Enter to skip): \")\n",
        "\n",
        "if name is not None and name != \"\":\n",
        "    print(f\"Hello, {name}!\")\n",
        "else:\n",
        "    print(\"No name provided\")"
      ]
    },
    {
      "cell_type": "markdown",
      "metadata": {
        "id": "TBuiNNWGmXSM"
      },
      "source": [
        "## Comparison Operations\n",
        "\n",
        "We compare values in Python like in any other language:\n",
        "\n",
        "```\n",
        "x, y = 5, 10\n",
        "print(f\"{x} > {y} = {x > y}\")\n",
        "print(f\"{x} <= {y} = {x <= y}\")\n",
        "print(f\"{x} == {y} = {x == y}\")\n",
        "print(f\"{x} != {y} = {x != y}\")\n",
        "```\n"
      ]
    },
    {
      "cell_type": "code",
      "execution_count": 10,
      "metadata": {
        "id": "7UGjNVzumXSM",
        "colab": {
          "base_uri": "https://localhost:8080/"
        },
        "outputId": "a400225d-b8a5-428f-ddfe-fcf1fb267e5c"
      },
      "outputs": [
        {
          "output_type": "stream",
          "name": "stdout",
          "text": [
            "5 != 10 = True\n"
          ]
        }
      ],
      "source": [
        "# try typing one line from above...\n",
        "x, y = 5, 10\n",
        "print(f\"{x} != {y} = {x != y}\")"
      ]
    },
    {
      "cell_type": "markdown",
      "metadata": {
        "id": "gDpkv9JNFN6j"
      },
      "source": [
        "### Logical Operations\n",
        "\n",
        "With logical operations we combine and blend expressions.\n",
        "\n",
        "```\n",
        "age = 25\n",
        "has_license = True\n",
        "\n",
        "can_rent_car = age >= 21 and has_license\n",
        "print(f\"Can rent a car: {can_rent_car}\")\n",
        "```\n",
        "\n",
        "### Truthy and Falsy values\n",
        "\n",
        "Falsy: None, 0, \"\", [], {}, False  \n",
        "Everything else is Truthy"
      ]
    },
    {
      "cell_type": "markdown",
      "metadata": {
        "id": "W5QO3YdSmXSM"
      },
      "source": [
        "## 🎯 Quick Exercise\n",
        "2.2  Calculate the area and circumference of a circle with radius 5.\n",
        "\n",
        "```\n",
        "import math\n",
        "\n",
        "radius = 5\n",
        "\n",
        "# Calculate area (π * r²) and circumference (2 * π * r)\n",
        "area = math.pi * radius**2\n",
        "circumference = 2 * math.pi * radius\n",
        "\n",
        "print(f\"Circle with radius {radius}:\")\n",
        "print(f\"Area: {area:.2f}\")\n",
        "print(f\"Circumference: {circumference:.2f}\")\n",
        "```"
      ]
    },
    {
      "cell_type": "code",
      "execution_count": 11,
      "metadata": {
        "id": "j91Xt9EymXSM",
        "colab": {
          "base_uri": "https://localhost:8080/"
        },
        "outputId": "b48ac8e6-6c07-41eb-a254-ca4d2e03f025"
      },
      "outputs": [
        {
          "output_type": "stream",
          "name": "stdout",
          "text": [
            "Circle with radius 5:\n",
            "Area: 78.54\n",
            "Circumference: 31.42\n"
          ]
        }
      ],
      "source": [
        "#type (or paste) that code and run it...\n",
        "import math\n",
        "\n",
        "radius = 5\n",
        "\n",
        "# Calculate area (π * r²) and circumference (2 * π * r)\n",
        "area = math.pi * radius**2\n",
        "circumference = 2 * math.pi * radius\n",
        "\n",
        "print(f\"Circle with radius {radius}:\")\n",
        "print(f\"Area: {area:.2f}\")\n",
        "print(f\"Circumference: {circumference:.2f}\")"
      ]
    },
    {
      "cell_type": "markdown",
      "metadata": {
        "id": "ja_qUc9lmXSM"
      },
      "source": [
        "---\n",
        "\n",
        "## Part 3: Control Flow (15 minutes)\n",
        "\n",
        "### Conditionals\n",
        "\n",
        "# Interactive temperature checker\n",
        "\n",
        "```\n",
        "temperature = 25  # Change value and re-run!\n",
        "\n",
        "if temperature > 30:\n",
        "    print(\"🌡️ It's hot! Stay hydrated!\")\n",
        "elif temperature > 20:\n",
        "    print(\"😊 Nice weather!\")\n",
        "elif temperature > 10:\n",
        "    print(\"🧥 It's cool, bring a jacket\")\n",
        "else:\n",
        "    print(\"❄️ It's cold! Bundle up!\")\n",
        "```"
      ]
    },
    {
      "cell_type": "markdown",
      "metadata": {
        "id": "n5M893XiowIr"
      },
      "source": []
    },
    {
      "cell_type": "code",
      "execution_count": 12,
      "metadata": {
        "id": "WB6esKb4mXSN",
        "colab": {
          "base_uri": "https://localhost:8080/"
        },
        "outputId": "60a558b8-9277-4db9-85fb-df0e5de265ba"
      },
      "outputs": [
        {
          "output_type": "stream",
          "name": "stdout",
          "text": [
            "😊 Nice weather!\n"
          ]
        }
      ],
      "source": [
        "# type or paste code here...\n",
        "temperature = 25  # Change value and re-run!\n",
        "\n",
        "if temperature > 30:\n",
        "    print(\"🌡️ It's hot! Stay hydrated!\")\n",
        "elif temperature > 20:\n",
        "    print(\"😊 Nice weather!\")\n",
        "elif temperature > 10:\n",
        "    print(\"🧥 It's cool, bring a jacket\")\n",
        "else:\n",
        "    print(\"❄️ It's cold! Bundle up!\")"
      ]
    },
    {
      "cell_type": "markdown",
      "metadata": {
        "id": "j8_u2d3DmXSN"
      },
      "source": [
        "## For Loops with Range\n",
        "\n",
        "### For Loops\n",
        "```\n",
        "print(\"\\nCounting squares:\")\n",
        "for i in range(1, 6):\n",
        "    print(f\"{i}: {'■' * i}\")\n",
        "```"
      ]
    },
    {
      "cell_type": "code",
      "execution_count": 13,
      "metadata": {
        "id": "YGNF58IVmXSN",
        "colab": {
          "base_uri": "https://localhost:8080/"
        },
        "outputId": "a6f94fc3-63d3-49c9-9e6b-c9cb1b1472c9"
      },
      "outputs": [
        {
          "output_type": "stream",
          "name": "stdout",
          "text": [
            "\n",
            "Counting squares:\n",
            "1: ■\n",
            "2: ■■\n",
            "3: ■■■\n",
            "4: ■■■■\n",
            "5: ■■■■■\n"
          ]
        }
      ],
      "source": [
        "# what's the output?\n",
        "print(\"\\nCounting squares:\")\n",
        "for i in range(1, 6):\n",
        "    print(f\"{i}: {'■' * i}\")"
      ]
    },
    {
      "cell_type": "markdown",
      "metadata": {
        "id": "Dm3qiaqSHnuN"
      },
      "source": [
        "\n",
        "### Understanding `range(start, stop, step)\n",
        "\n",
        "```\n",
        "print(\"range(5):\", list(range(5)))          # 0 to 4\n",
        "print(\"range(2, 7):\", list(range(2, 7)))    # 2 to 6\n",
        "print(\"range(0, 10, 2):\", list(range(0, 10, 2)))  # Even numbers\n",
        "print(\"range(10, 0, -1):\", list(range(10, 0, -1)))  # Countdown"
      ]
    },
    {
      "cell_type": "code",
      "execution_count": 15,
      "metadata": {
        "id": "l_WU_BjDHo-m",
        "colab": {
          "base_uri": "https://localhost:8080/"
        },
        "outputId": "b939478c-8c8b-468d-b67a-1a35fffd8bdf"
      },
      "outputs": [
        {
          "output_type": "stream",
          "name": "stdout",
          "text": [
            "range(5): [0, 1, 2, 3, 4]\n",
            "range(2, 7): [2, 3, 4, 5, 6]\n",
            "range(0, 10, 2): [0, 2, 4, 6, 8]\n",
            "range(10, 0, -1): [10, 9, 8, 7, 6, 5, 4, 3, 2, 1]\n"
          ]
        }
      ],
      "source": [
        "# try running a few here. Guess output before you run\n",
        "print(\"range(5):\", list(range(5)))          # 0 to 4\n",
        "print(\"range(2, 7):\", list(range(2, 7)))    # 2 to 6\n",
        "print(\"range(0, 10, 2):\", list(range(0, 10, 2)))  # Even numbers\n",
        "print(\"range(10, 0, -1):\", list(range(10, 0, -1)))  # Countdown"
      ]
    },
    {
      "cell_type": "markdown",
      "metadata": {
        "id": "Aor21ckHmXSN"
      },
      "source": [
        "## While Loops\n",
        "\n",
        "This loop starts at 1 and counts up to 5.\n",
        "\n",
        "```\n",
        "count = 1\n",
        "\n",
        "while count <= 5:\n",
        "    print(\"Count is:\", count)\n",
        "    count += 1  # Increase count by 1 each time\n",
        "```    "
      ]
    },
    {
      "cell_type": "code",
      "execution_count": 16,
      "metadata": {
        "id": "3hP59d6RmXSN",
        "colab": {
          "base_uri": "https://localhost:8080/"
        },
        "outputId": "b4048433-efd3-44df-f657-c3757ce71307"
      },
      "outputs": [
        {
          "output_type": "stream",
          "name": "stdout",
          "text": [
            "Count is: 1\n",
            "Count is: 2\n",
            "Count is: 3\n",
            "Count is: 4\n",
            "Count is: 5\n"
          ]
        }
      ],
      "source": [
        "# what is our output?\n",
        "count = 1\n",
        "\n",
        "while count <= 5:\n",
        "    print(\"Count is:\", count)\n",
        "    count += 1  # Increase count by 1 each time"
      ]
    },
    {
      "cell_type": "markdown",
      "metadata": {
        "id": "AVPPnxgxmXSN"
      },
      "source": [
        "---\n",
        "## Part 4: Data Structures\n",
        "Build Up to the Project (15 minutes)\n",
        "\n",
        "## Lists - Starting Simple\n",
        "\n",
        "Lists hold collections of values. These are essential in use of Python and python tools.\n",
        "\n",
        "```\n",
        "temperatures = [22, 24, 19, 23, 25, 21, 20]\n",
        "days = ['Mon', 'Tue', 'Wed', 'Thu', 'Fri', 'Sat', 'Sun']\n",
        "\n",
        "print(\"This week's temperatures:\")\n",
        "for day, temp in zip(days, temperatures):\n",
        "    print(f\"{day}: {temp}°C\")\n",
        "\n",
        "# Calculate statistics\n",
        "avg_temp = sum(temperatures) / len(temperatures)\n",
        "print(f\"\\nAverage: {avg_temp:.1f}°C\")\n",
        "print(f\"Hottest: {max(temperatures)}°C\")\n",
        "print(f\"Coldest: {min(temperatures)}°C\")\n",
        "```"
      ]
    },
    {
      "cell_type": "code",
      "execution_count": 17,
      "metadata": {
        "id": "5t75juOKmXSN",
        "colab": {
          "base_uri": "https://localhost:8080/"
        },
        "outputId": "2dbc1249-e2c2-48a4-c75b-61bf21d6f5d0"
      },
      "outputs": [
        {
          "output_type": "stream",
          "name": "stdout",
          "text": [
            "This week's temperatures:\n",
            "Mon: 22°C\n",
            "Tue: 24°C\n",
            "Wed: 19°C\n",
            "Thu: 23°C\n",
            "Fri: 25°C\n",
            "Sat: 21°C\n",
            "Sun: 20°C\n",
            "\n",
            "Average: 22.0°C\n",
            "Hottest: 25°C\n",
            "Coldest: 19°C\n"
          ]
        }
      ],
      "source": [
        "# past the code here to see the output...\n",
        "temperatures = [22, 24, 19, 23, 25, 21, 20]\n",
        "days = ['Mon', 'Tue', 'Wed', 'Thu', 'Fri', 'Sat', 'Sun']\n",
        "\n",
        "print(\"This week's temperatures:\")\n",
        "for day, temp in zip(days, temperatures):\n",
        "    print(f\"{day}: {temp}°C\")\n",
        "\n",
        "# Calculate statistics\n",
        "avg_temp = sum(temperatures) / len(temperatures)\n",
        "print(f\"\\nAverage: {avg_temp:.1f}°C\")\n",
        "print(f\"Hottest: {max(temperatures)}°C\")\n",
        "print(f\"Coldest: {min(temperatures)}°C\")"
      ]
    },
    {
      "cell_type": "markdown",
      "metadata": {
        "id": "khHeJfXsmXSN"
      },
      "source": [
        "## List Methods and Operations\n",
        "\n",
        "Examples of common list operations and slicing in Python.\n",
        "\n",
        "```\n",
        "fruits = ['apple', 'banana']\n",
        "print(f\"Original: {fruits}\")\n",
        "\n",
        "fruits.append('orange')  # Add one item\n",
        "print(f\"After append: {fruits}\")\n",
        "\n",
        "fruits.extend(['grape', 'kiwi'])  # Add multiple items\n",
        "print(f\"After extend: {fruits}\")\n",
        "\n",
        "fruits.insert(1, 'mango')  # Insert at position\n",
        "print(f\"After insert at 1: {fruits}\")\n",
        "\n",
        "removed = fruits.pop()  # Remove and return last item\n",
        "print(f\"Popped '{removed}', list now: {fruits}\")\n",
        "\n",
        "fruits.remove('banana')  # Remove specific item\n",
        "print(f\"After removing 'banana': {fruits}\")\n",
        "\n",
        "fruits.sort()  # Sort in place\n",
        "print(f\"After sorting: {fruits}\")\n",
        "```"
      ]
    },
    {
      "cell_type": "code",
      "execution_count": 18,
      "metadata": {
        "id": "htmA9UlzmXSN",
        "colab": {
          "base_uri": "https://localhost:8080/"
        },
        "outputId": "fde04c9c-93ba-40c3-d706-33164194154e"
      },
      "outputs": [
        {
          "output_type": "stream",
          "name": "stdout",
          "text": [
            "Original: ['apple', 'banana']\n",
            "After append: ['apple', 'banana', 'orange']\n",
            "After extend: ['apple', 'banana', 'orange', 'grape', 'kiwi']\n",
            "After insert at 1: ['apple', 'mango', 'banana', 'orange', 'grape', 'kiwi']\n",
            "Popped 'kiwi', list now: ['apple', 'mango', 'banana', 'orange', 'grape']\n",
            "After removing 'banana': ['apple', 'mango', 'orange', 'grape']\n",
            "After sorting: ['apple', 'grape', 'mango', 'orange']\n"
          ]
        }
      ],
      "source": [
        "# type samples here to get a feel for lists...\n",
        "fruits = ['apple', 'banana']\n",
        "print(f\"Original: {fruits}\")\n",
        "\n",
        "fruits.append('orange')  # Add one item\n",
        "print(f\"After append: {fruits}\")\n",
        "\n",
        "fruits.extend(['grape', 'kiwi'])  # Add multiple items\n",
        "print(f\"After extend: {fruits}\")\n",
        "\n",
        "fruits.insert(1, 'mango')  # Insert at position\n",
        "print(f\"After insert at 1: {fruits}\")\n",
        "\n",
        "removed = fruits.pop()  # Remove and return last item\n",
        "print(f\"Popped '{removed}', list now: {fruits}\")\n",
        "\n",
        "fruits.remove('banana')  # Remove specific item\n",
        "print(f\"After removing 'banana': {fruits}\")\n",
        "\n",
        "fruits.sort()  # Sort in place\n",
        "print(f\"After sorting: {fruits}\")"
      ]
    },
    {
      "cell_type": "markdown",
      "metadata": {
        "id": "tLDnFQk8Iklj"
      },
      "source": [
        "### List Slicing\n",
        "\n",
        "We \"slice\" lists to extract portions.\n",
        "\n",
        "```\n",
        "numbers = [0, 1, 2, 3, 4, 5, 6, 7, 8, 9]\n",
        "print(f\"\\nSlicing examples with {numbers}:\")\n",
        "\n",
        "print(f\"First 3: {numbers[:3]}\")\n",
        "print(f\"Last 3: {numbers[-3:]}\")\n",
        "print(f\"Every 2nd: {numbers[::2]}\")\n",
        "print(f\"Reversed: {numbers[::-1]}\")\n",
        "print(f\"Middle: {numbers[3:7]}\")\n",
        "```\n"
      ]
    },
    {
      "cell_type": "code",
      "execution_count": 20,
      "metadata": {
        "id": "6GfyfUNyIx1S",
        "colab": {
          "base_uri": "https://localhost:8080/"
        },
        "outputId": "19db1b18-b462-4d14-d0ba-89d1c48dc5d2"
      },
      "outputs": [
        {
          "output_type": "stream",
          "name": "stdout",
          "text": [
            "\n",
            "Slicing examples with [0, 1, 2, 3, 4, 5, 6, 7, 8, 9]:\n",
            "First 3: [0, 1, 2]\n",
            "Last 3: [7, 8, 9]\n",
            "Every 2nd: [0, 2, 4, 6, 8]\n",
            "Reversed: [9, 8, 7, 6, 5, 4, 3, 2, 1, 0]\n",
            "Middle: [3, 4, 5, 6]\n"
          ]
        }
      ],
      "source": [
        "# copy the list and try some examplere...\n",
        "numbers = [0, 1, 2, 3, 4, 5, 6, 7, 8, 9]\n",
        "print(f\"\\nSlicing examples with {numbers}:\")\n",
        "\n",
        "print(f\"First 3: {numbers[:3]}\")\n",
        "print(f\"Last 3: {numbers[-3:]}\")\n",
        "print(f\"Every 2nd: {numbers[::2]}\")\n",
        "print(f\"Reversed: {numbers[::-1]}\")\n",
        "print(f\"Middle: {numbers[3:7]}\")"
      ]
    },
    {
      "cell_type": "markdown",
      "metadata": {
        "id": "TYokhLYUmXSN"
      },
      "source": [
        "## Dictionaries - Adding Structure\n",
        "\n",
        "\n",
        "A **dictionary** in Python is a collection of key–value pairs.  \n",
        "- **Keys** are unique identifiers (like names).  \n",
        "- **Values** are the data associated with those keys.  \n",
        "- You access values by their key instead of an index.  \n",
        "\n",
        "**Example:**  \n",
        "```python\n",
        "person = {\n",
        "    \"name\": \"Alice\",\n",
        "    \"age\": 30,\n",
        "    \"city\": \"San Diego\"\n",
        "}\n",
        "\n",
        "** Example: **\n",
        "\n",
        "### Example: Tracking Multiple Cities  \n",
        "Each city is the **key**, and its list of daily temperatures is the **value**.\n",
        "\n",
        "```\n",
        "weather_data = {\n",
        "    'San Diego': [22, 24, 19, 23, 25, 21, 20],\n",
        "    'New York': [5, 7, 4, 8, 10, 6, 5],\n",
        "    'Miami': [28, 30, 29, 31, 32, 30, 29]\n",
        "}\n",
        "```"
      ]
    },
    {
      "cell_type": "markdown",
      "metadata": {
        "id": "lGE3pGPGKdTU"
      },
      "source": [
        "###  Process each city\n",
        "for city, temps in weather_data.items():\n",
        "    avg = sum(temps) / len(temps)\n",
        "    print(f\"{city}: Avg={avg:.1f}°C, Max={max(temps)}°C, Min={min(temps)}°C\")\n",
        "\n",
        "### Process Each City  \n",
        "\n",
        "Loop through the dictionary using `.items()` to access both the key (city) and the value (list of temperatures).\n",
        "\n",
        "```\n",
        "for city, temps in weather_data.items():\n",
        "    avg = sum(temps) / len(temps)\n",
        "    print(f\"{city}: Avg={avg:.1f}°C, Max={max(temps)}°C, Min={min(temps)}°C\")\n",
        "    ```"
      ]
    },
    {
      "cell_type": "code",
      "execution_count": 21,
      "metadata": {
        "id": "-PHenU8TIvfH",
        "colab": {
          "base_uri": "https://localhost:8080/",
          "height": 203
        },
        "outputId": "12484169-9eb4-4b4d-8d1d-3c0b884b2ef4"
      },
      "outputs": [
        {
          "output_type": "error",
          "ename": "NameError",
          "evalue": "name 'weather_data' is not defined",
          "traceback": [
            "\u001b[0;31m---------------------------------------------------------------------------\u001b[0m",
            "\u001b[0;31mNameError\u001b[0m                                 Traceback (most recent call last)",
            "\u001b[0;32m/tmp/ipython-input-3509812505.py\u001b[0m in \u001b[0;36m<cell line: 0>\u001b[0;34m()\u001b[0m\n\u001b[1;32m      1\u001b[0m \u001b[0;31m# try pasting the example here...\u001b[0m\u001b[0;34m\u001b[0m\u001b[0;34m\u001b[0m\u001b[0m\n\u001b[0;32m----> 2\u001b[0;31m \u001b[0;32mfor\u001b[0m \u001b[0mcity\u001b[0m\u001b[0;34m,\u001b[0m \u001b[0mtemps\u001b[0m \u001b[0;32min\u001b[0m \u001b[0mweather_data\u001b[0m\u001b[0;34m.\u001b[0m\u001b[0mitems\u001b[0m\u001b[0;34m(\u001b[0m\u001b[0;34m)\u001b[0m\u001b[0;34m:\u001b[0m\u001b[0;34m\u001b[0m\u001b[0;34m\u001b[0m\u001b[0m\n\u001b[0m\u001b[1;32m      3\u001b[0m     \u001b[0mavg\u001b[0m \u001b[0;34m=\u001b[0m \u001b[0msum\u001b[0m\u001b[0;34m(\u001b[0m\u001b[0mtemps\u001b[0m\u001b[0;34m)\u001b[0m \u001b[0;34m/\u001b[0m \u001b[0mlen\u001b[0m\u001b[0;34m(\u001b[0m\u001b[0mtemps\u001b[0m\u001b[0;34m)\u001b[0m\u001b[0;34m\u001b[0m\u001b[0;34m\u001b[0m\u001b[0m\n\u001b[1;32m      4\u001b[0m     \u001b[0mprint\u001b[0m\u001b[0;34m(\u001b[0m\u001b[0;34mf\"{city}: Avg={avg:.1f}°C, Max={max(temps)}°C, Min={min(temps)}°C\"\u001b[0m\u001b[0;34m)\u001b[0m\u001b[0;34m\u001b[0m\u001b[0;34m\u001b[0m\u001b[0m\n",
            "\u001b[0;31mNameError\u001b[0m: name 'weather_data' is not defined"
          ]
        }
      ],
      "source": [
        "# try pasting the example here...\n",
        "# for city, temps in weather_data.items():\n",
        "#     avg = sum(temps) / len(temps)\n",
        "#     print(f\"{city}: Avg={avg:.1f}°C, Max={max(temps)}°C, Min={min(temps)}°C\")"
      ]
    },
    {
      "cell_type": "markdown",
      "metadata": {
        "id": "jyE1qeIKmXSN"
      },
      "source": [
        "## List Comprehensions - Pythonic Way\n",
        "\n",
        "A **list comprehension** is a concise way to create lists in Python.   It lets you write a `for` loop and the expression you want to compute in a single line.  \n",
        "\n",
        "**General form:**  \n",
        "```python\n",
        "[expression for item in iterable if condition]\n",
        "```\n",
        "\n",
        "\t•\texpression → what you want to compute\n",
        "\t•\titem → each element from the iterable\n",
        "\t•\tcondition (optional) → filter which elements are included\n",
        "\n",
        "\n",
        "Example:\n",
        "\n",
        "## Converting Celsius to Fahrenheit  \n",
        "\n",
        "\n",
        "We can convert a list of Celsius temperatures to Fahrenheit in two ways:  \n",
        "1. Using a **for loop** (the long way).  \n",
        "2. Using a **list comprehension** (the Pythonic way).  \n",
        "\n",
        "```python\n",
        "# Convert Celsius to Fahrenheit for all temperatures\n",
        "san_diego_temps = [22, 24, 19, 23, 25, 21, 20]\n",
        "\n",
        "# The long way (with a loop)\n",
        "fahrenheit_long = []\n",
        "for temp in san_diego_temps:\n",
        "    fahrenheit_long.append(temp * 9/5 + 32)\n",
        "\n",
        "# The Pythonic way (list comprehension)\n",
        "fahrenheit = [temp * 9/5 + 32 for temp in san_diego_temps]\n",
        "\n",
        "print(\"Celsius:\", san_diego_temps)\n",
        "print(\"Fahrenheit:\", [f\"{f:.1f}\" for f in fahrenheit])\n",
        "```\n"
      ]
    },
    {
      "cell_type": "code",
      "execution_count": 24,
      "metadata": {
        "colab": {
          "base_uri": "https://localhost:8080/"
        },
        "id": "IcmgpAJ-L63c",
        "outputId": "6a4f9e7e-eac8-4369-91c4-ee6ab5dd4833"
      },
      "outputs": [
        {
          "output_type": "stream",
          "name": "stdout",
          "text": [
            "Celsius: [22, 24, 19, 23, 25, 21, 20]\n",
            "Fahrenheit: ['71.6', '75.2', '66.2', '73.4', '77.0', '69.8', '68.0']\n"
          ]
        }
      ],
      "source": [
        "# paste the code to run...\n",
        "# Convert Celsius to Fahrenheit for all temperatures\n",
        "san_diego_temps = [22, 24, 19, 23, 25, 21, 20]\n",
        "\n",
        "# The long way (with a loop)\n",
        "fahrenheit_long = []\n",
        "for temp in san_diego_temps:\n",
        "    fahrenheit_long.append(temp * 9/5 + 32)\n",
        "\n",
        "# The Pythonic way (list comprehension)\n",
        "fahrenheit = [temp * 9/5 + 32 for temp in san_diego_temps]\n",
        "\n",
        "print(\"Celsius:\", san_diego_temps)\n",
        "print(\"Fahrenheit:\", [f\"{f:.1f}\" for f in fahrenheit])"
      ]
    },
    {
      "cell_type": "markdown",
      "metadata": {
        "id": "f3xfhZ54mXSN"
      },
      "source": [
        "---\n",
        "\n",
        "## Part 5: Get the Data"
      ]
    },
    {
      "cell_type": "code",
      "execution_count": 23,
      "metadata": {
        "id": "iVUmJM9xt1SN"
      },
      "outputs": [],
      "source": [
        "import urllib.request\n",
        "\n",
        "\n",
        "url = 'https://raw.githubusercontent.com/DSE200/Day1/main/temperatures.csv'\n",
        "try:\n",
        "    urllib.request.urlretrieve(url, \"temperatures.csv\")\n",
        "except Exception as e:\n",
        "    raise RuntimeError(f\"Failed to download temperatures.csv from {url}: {e}\")\n"
      ]
    },
    {
      "cell_type": "markdown",
      "metadata": {
        "id": "WbkG5slnmXSO"
      },
      "source": [
        "---\n",
        "\n",
        "## Part 6: Mini-Project\n",
        "Building Up to Data Analysis (20 minutes)\n",
        "\n",
        "### Step 1: Read and Explore the Data"
      ]
    },
    {
      "cell_type": "code",
      "execution_count": 28,
      "metadata": {
        "id": "5nItTrJmmXSO",
        "colab": {
          "base_uri": "https://localhost:8080/"
        },
        "outputId": "6183f9ef-2675-4e70-c0cb-9ffc09fd4041"
      },
      "outputs": [
        {
          "output_type": "stream",
          "name": "stdout",
          "text": [
            "First 5 rows of data:\n",
            "{'date': '2023-07-20', 'city': 'San Diego', 'temperature (C)': '23.7'}\n",
            "{'date': '2023-05-19', 'city': 'Austin', 'temperature (C)': ''}\n",
            "{'date': '2023-04-27', 'city': '', 'temperature (C)': '35.9'}\n",
            "{'date': '2023-07-03', 'city': 'New York', 'temperature (C)': '24.9'}\n",
            "{'date': '2023-06-02', 'city': 'New York', 'temperature (C)': '2.5'}\n",
            "\n",
            "Total rows: 5000\n"
          ]
        }
      ],
      "source": [
        "import csv  # Read the CSV file we created\n",
        "\n",
        "data = []\n",
        "with open('temperatures.csv', 'r') as file:\n",
        "    reader = csv.DictReader(file)\n",
        "    for row in reader:\n",
        "        data.append(row)\n",
        "\n",
        "# Display first 5 rows\n",
        "print(\"First 5 rows of data:\")\n",
        "for row in data[:5]:\n",
        "    print(row)\n",
        "print(f\"\\nTotal rows: {len(data)}\")"
      ]
    },
    {
      "cell_type": "markdown",
      "metadata": {
        "id": "g1u1a1BLmXSO"
      },
      "source": [
        "### Step 2: Process and Organize Data\n",
        "\n",
        "> Add blockquote\n",
        "\n"
      ]
    },
    {
      "cell_type": "code",
      "execution_count": 34,
      "metadata": {
        "id": "qlWt2FnomXSO",
        "colab": {
          "base_uri": "https://localhost:8080/",
          "height": 222
        },
        "outputId": "37894475-30d4-4a37-cf8f-3a64bbd7440f"
      },
      "outputs": [
        {
          "output_type": "error",
          "ename": "ValueError",
          "evalue": "could not convert string to float: ''",
          "traceback": [
            "\u001b[0;31m---------------------------------------------------------------------------\u001b[0m",
            "\u001b[0;31mValueError\u001b[0m                                Traceback (most recent call last)",
            "\u001b[0;32m/tmp/ipython-input-2690898220.py\u001b[0m in \u001b[0;36m<cell line: 0>\u001b[0;34m()\u001b[0m\n\u001b[1;32m      5\u001b[0m \u001b[0;32mfor\u001b[0m \u001b[0mrow\u001b[0m \u001b[0;32min\u001b[0m \u001b[0mdata\u001b[0m\u001b[0;34m:\u001b[0m\u001b[0;34m\u001b[0m\u001b[0;34m\u001b[0m\u001b[0m\n\u001b[1;32m      6\u001b[0m     \u001b[0mcity\u001b[0m \u001b[0;34m=\u001b[0m \u001b[0mrow\u001b[0m\u001b[0;34m[\u001b[0m\u001b[0;34m'city'\u001b[0m\u001b[0;34m]\u001b[0m\u001b[0;34m\u001b[0m\u001b[0;34m\u001b[0m\u001b[0m\n\u001b[0;32m----> 7\u001b[0;31m     \u001b[0mtemp\u001b[0m \u001b[0;34m=\u001b[0m \u001b[0mfloat\u001b[0m\u001b[0;34m(\u001b[0m\u001b[0mrow\u001b[0m\u001b[0;34m[\u001b[0m\u001b[0;34m'temperature (C)'\u001b[0m\u001b[0;34m]\u001b[0m\u001b[0;34m)\u001b[0m\u001b[0;34m\u001b[0m\u001b[0;34m\u001b[0m\u001b[0m\n\u001b[0m\u001b[1;32m      8\u001b[0m     \u001b[0mcity_temps\u001b[0m\u001b[0;34m[\u001b[0m\u001b[0mcity\u001b[0m\u001b[0;34m]\u001b[0m\u001b[0;34m.\u001b[0m\u001b[0mappend\u001b[0m\u001b[0;34m(\u001b[0m\u001b[0mtemp\u001b[0m\u001b[0;34m)\u001b[0m\u001b[0;34m\u001b[0m\u001b[0;34m\u001b[0m\u001b[0m\n\u001b[1;32m      9\u001b[0m \u001b[0;34m\u001b[0m\u001b[0m\n",
            "\u001b[0;31mValueError\u001b[0m: could not convert string to float: ''"
          ]
        }
      ],
      "source": [
        "from collections import defaultdict\n",
        "\n",
        "# Organize data by city\n",
        "city_temps = defaultdict(list)\n",
        "for row in data:\n",
        "    city = row['city']\n",
        "    temp = float(row['temperature (C)'])\n",
        "    city_temps[city].append(temp)\n",
        "\n",
        "# Display summary\n",
        "for city, temps in city_temps.items():\n",
        "    print(f\"{city}: {len(temps)} readings\")"
      ]
    },
    {
      "cell_type": "markdown",
      "metadata": {
        "id": "dr2J55Y7mXSO"
      },
      "source": [
        "### Step 3: Calculate Statistics"
      ]
    },
    {
      "cell_type": "code",
      "execution_count": 26,
      "metadata": {
        "id": "xdc-_xhFmXSO",
        "colab": {
          "base_uri": "https://localhost:8080/",
          "height": 222
        },
        "outputId": "b2773554-d899-4162-f439-45854f7233f3"
      },
      "outputs": [
        {
          "output_type": "error",
          "ename": "NameError",
          "evalue": "name 'city_temps' is not defined",
          "traceback": [
            "\u001b[0;31m---------------------------------------------------------------------------\u001b[0m",
            "\u001b[0;31mNameError\u001b[0m                                 Traceback (most recent call last)",
            "\u001b[0;32m/tmp/ipython-input-1367737651.py\u001b[0m in \u001b[0;36m<cell line: 0>\u001b[0;34m()\u001b[0m\n\u001b[1;32m      3\u001b[0m \u001b[0;31m# Calculate statistics for each city\u001b[0m\u001b[0;34m\u001b[0m\u001b[0;34m\u001b[0m\u001b[0m\n\u001b[1;32m      4\u001b[0m \u001b[0mresults\u001b[0m \u001b[0;34m=\u001b[0m \u001b[0;34m[\u001b[0m\u001b[0;34m]\u001b[0m\u001b[0;34m\u001b[0m\u001b[0;34m\u001b[0m\u001b[0m\n\u001b[0;32m----> 5\u001b[0;31m \u001b[0;32mfor\u001b[0m \u001b[0mcity\u001b[0m\u001b[0;34m,\u001b[0m \u001b[0mtemps\u001b[0m \u001b[0;32min\u001b[0m \u001b[0mcity_temps\u001b[0m\u001b[0;34m.\u001b[0m\u001b[0mitems\u001b[0m\u001b[0;34m(\u001b[0m\u001b[0;34m)\u001b[0m\u001b[0;34m:\u001b[0m\u001b[0;34m\u001b[0m\u001b[0;34m\u001b[0m\u001b[0m\n\u001b[0m\u001b[1;32m      6\u001b[0m     stats = {\n\u001b[1;32m      7\u001b[0m         \u001b[0;34m'City'\u001b[0m\u001b[0;34m:\u001b[0m \u001b[0mcity\u001b[0m\u001b[0;34m,\u001b[0m\u001b[0;34m\u001b[0m\u001b[0;34m\u001b[0m\u001b[0m\n",
            "\u001b[0;31mNameError\u001b[0m: name 'city_temps' is not defined"
          ]
        }
      ],
      "source": [
        "import statistics\n",
        "\n",
        "# Calculate statistics for each city\n",
        "results = []\n",
        "for city, temps in city_temps.items():\n",
        "    stats = {\n",
        "        'City': city,\n",
        "        'Average': statistics.mean(temps),\n",
        "        'Min': min(temps),\n",
        "        'Max': max(temps),\n",
        "        'StdDev': statistics.stdev(temps) if len(temps) > 1 else 0.0,\n",
        "    }\n",
        "    results.append(stats)\n",
        "\n",
        "# Display results\n",
        "print(\"\\nTemperature Statistics by City:\")\n",
        "print(\"-\" * 50)\n",
        "for stat in results:\n",
        "    print(\n",
        "        f\"{stat['City']:12} | Avg: {stat['Average']:5.1f}°C | \"\n",
        "        f\"Min: {stat['Min']:5.1f}°C | Max: {stat['Max']:5.1f}°C | \"\n",
        "        f\"StdDev: {stat['StdDev']:4.1f}\"\n",
        "    )"
      ]
    },
    {
      "cell_type": "markdown",
      "metadata": {
        "id": "4WDhIIPpmXSO"
      },
      "source": [
        "### Step 4: Visualize the Results\n",
        "\n",
        "## Create a figure with subplots\n",
        "\n",
        "```\n",
        "import matplotlib.pyplot as plt\n",
        "\n",
        "# Create a figure with subplots\n",
        "fig, axes = plt.subplots(1, 2, figsize=(12, 4))\n",
        "\n",
        "# Plot 1: Box plot of temperatures\n",
        "cities = list(city_temps.keys())\n",
        "temps_list = [city_temps[city] for city in cities]\n",
        "axes[0].boxplot(temps_list, labels=cities)\n",
        "axes[0].set_title('Temperature Distribution by City')\n",
        "axes[0].set_ylabel('Temperature (°C)')\n",
        "axes[0].grid(True, alpha=0.3)\n",
        "\n",
        "# Plot 2: Average temperatures bar chart\n",
        "averages = [statistics.mean(city_temps[city]) for city in cities]\n",
        "colors = ['#FF6B6B', '#4ECDC4', '#45B7D1']\n",
        "axes[1].bar(cities, averages, color=colors)\n",
        "axes[1].set_title('Average Temperature by City')\n",
        "axes[1].set_ylabel('Average Temperature (°C)')\n",
        "axes[1].grid(True, alpha=0.3, axis='y')\n",
        "\n",
        "plt.tight_layout()\n",
        "plt.show()\n",
        "print(\"📈 Visualization complete!\")\n",
        "```"
      ]
    },
    {
      "cell_type": "code",
      "execution_count": 25,
      "metadata": {
        "id": "wsPlRMM7mXSO",
        "colab": {
          "base_uri": "https://localhost:8080/",
          "height": 579
        },
        "outputId": "07431609-fa5d-4dda-8bb3-09f38b79771b"
      },
      "outputs": [
        {
          "output_type": "error",
          "ename": "NameError",
          "evalue": "name 'city_temps' is not defined",
          "traceback": [
            "\u001b[0;31m---------------------------------------------------------------------------\u001b[0m",
            "\u001b[0;31mNameError\u001b[0m                                 Traceback (most recent call last)",
            "\u001b[0;32m/tmp/ipython-input-1725326602.py\u001b[0m in \u001b[0;36m<cell line: 0>\u001b[0;34m()\u001b[0m\n\u001b[1;32m      6\u001b[0m \u001b[0;34m\u001b[0m\u001b[0m\n\u001b[1;32m      7\u001b[0m \u001b[0;31m# Plot 1: Box plot of temperatures\u001b[0m\u001b[0;34m\u001b[0m\u001b[0;34m\u001b[0m\u001b[0m\n\u001b[0;32m----> 8\u001b[0;31m \u001b[0mcities\u001b[0m \u001b[0;34m=\u001b[0m \u001b[0mlist\u001b[0m\u001b[0;34m(\u001b[0m\u001b[0mcity_temps\u001b[0m\u001b[0;34m.\u001b[0m\u001b[0mkeys\u001b[0m\u001b[0;34m(\u001b[0m\u001b[0;34m)\u001b[0m\u001b[0;34m)\u001b[0m\u001b[0;34m\u001b[0m\u001b[0;34m\u001b[0m\u001b[0m\n\u001b[0m\u001b[1;32m      9\u001b[0m \u001b[0mtemps_list\u001b[0m \u001b[0;34m=\u001b[0m \u001b[0;34m[\u001b[0m\u001b[0mcity_temps\u001b[0m\u001b[0;34m[\u001b[0m\u001b[0mcity\u001b[0m\u001b[0;34m]\u001b[0m \u001b[0;32mfor\u001b[0m \u001b[0mcity\u001b[0m \u001b[0;32min\u001b[0m \u001b[0mcities\u001b[0m\u001b[0;34m]\u001b[0m\u001b[0;34m\u001b[0m\u001b[0;34m\u001b[0m\u001b[0m\n\u001b[1;32m     10\u001b[0m \u001b[0maxes\u001b[0m\u001b[0;34m[\u001b[0m\u001b[0;36m0\u001b[0m\u001b[0;34m]\u001b[0m\u001b[0;34m.\u001b[0m\u001b[0mboxplot\u001b[0m\u001b[0;34m(\u001b[0m\u001b[0mtemps_list\u001b[0m\u001b[0;34m,\u001b[0m \u001b[0mlabels\u001b[0m\u001b[0;34m=\u001b[0m\u001b[0mcities\u001b[0m\u001b[0;34m)\u001b[0m\u001b[0;34m\u001b[0m\u001b[0;34m\u001b[0m\u001b[0m\n",
            "\u001b[0;31mNameError\u001b[0m: name 'city_temps' is not defined"
          ]
        },
        {
          "output_type": "display_data",
          "data": {
            "text/plain": [
              "<Figure size 1200x400 with 2 Axes>"
            ],
            "image/png": "[encoded data removed]"
          },
          "metadata": {}
        }
      ],
      "source": [
        "# copy to code above in steps...\n",
        "import matplotlib.pyplot as plt\n",
        "\n",
        "# Create a figure with subplots\n",
        "fig, axes = plt.subplots(1, 2, figsize=(12, 4))\n",
        "\n",
        "# Plot 1: Box plot of temperatures\n",
        "cities = list(city_temps.keys())\n",
        "temps_list = [city_temps[city] for city in cities]\n",
        "axes[0].boxplot(temps_list, labels=cities)\n",
        "axes[0].set_title('Temperature Distribution by City')\n",
        "axes[0].set_ylabel('Temperature (°C)')\n",
        "axes[0].grid(True, alpha=0.3)\n",
        "\n",
        "# Plot 2: Average temperatures bar chart\n",
        "averages = [statistics.mean(city_temps[city]) for city in cities]\n",
        "colors = ['#FF6B6B', '#4ECDC4', '#45B7D1']\n",
        "axes[1].bar(cities, averages, color=colors)\n",
        "axes[1].set_title('Average Temperature by City')\n",
        "axes[1].set_ylabel('Average Temperature (°C)')\n",
        "axes[1].grid(True, alpha=0.3, axis='y')\n",
        "\n",
        "plt.tight_layout()\n",
        "plt.show()\n",
        "print(\"📈 Visualization complete!\")"
      ]
    },
    {
      "cell_type": "markdown",
      "metadata": {
        "id": "27LAjsX4mXSO"
      },
      "source": [
        "## Congratulations!\n",
        "\n",
        "You've completed the Python Google Colab tutorial!\n",
        "\n",
        "You've learned:\n",
        "- Google Colab basics and features  \n",
        "- Python fundamentals (variables, operations, control flow)\n",
        "- Data structures (lists, dictionaries, tuples\n",
        "- Comprehensions)  \n",
        "- File handling and CSV processing  \n",
        "- Basic data analysis with statistics  \n",
        "- Data visualization with matplotlib  \n",
        "\n",
        "### Save Your Work:- File → Save a copy in Drive- File → Download .ipynb- File → Save a copy in GitHub"
      ]
    }
  ],
  "metadata": {
    "colab": {
      "provenance": []
    },
    "kernelspec": {
      "display_name": "Python 3",
      "name": "python3"
    }
  },
  "nbformat": 4,
  "nbformat_minor": 0
}